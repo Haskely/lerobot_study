{
 "cells": [
  {
   "cell_type": "code",
   "execution_count": 1,
   "metadata": {},
   "outputs": [
    {
     "name": "stderr",
     "output_type": "stream",
     "text": [
      "c:\\Users\\A\\MyFiles\\Work\\lerobot_study\\.venv\\lib\\site-packages\\tqdm\\auto.py:21: TqdmWarning: IProgress not found. Please update jupyter and ipywidgets. See https://ipywidgets.readthedocs.io/en/stable/user_install.html\n",
      "  from .autonotebook import tqdm as notebook_tqdm\n",
      "Returning existing local_dir `..\\data\\dataset\\exam_2` as remote repo cannot be accessed in `snapshot_download` (None).\n",
      "Returning existing local_dir `..\\data\\dataset\\exam_2` as remote repo cannot be accessed in `snapshot_download` (None).\n"
     ]
    },
    {
     "name": "stdout",
     "output_type": "stream",
     "text": [
      "Selected episodes: None\n",
      "Number of episodes selected: 10\n",
      "Number of frames selected: 14363\n"
     ]
    }
   ],
   "source": [
    "# dataset\n",
    "from lerobot.common.datasets.lerobot_dataset import LeRobotDataset\n",
    "\n",
    "repo_id = \"Haskely/exam_2\"\n",
    "kwargs = dict(\n",
    "    root=\"../data/dataset/exam_2\",\n",
    "    local_files_only=True,\n",
    ")\n",
    "\n",
    "dataset = LeRobotDataset(repo_id, **kwargs)\n",
    "\n",
    "# And see how many frames you have:\n",
    "print(f\"Selected episodes: {dataset.episodes}\")\n",
    "print(f\"Number of episodes selected: {dataset.num_episodes}\")\n",
    "print(f\"Number of frames selected: {dataset.num_frames}\")"
   ]
  },
  {
   "cell_type": "code",
   "execution_count": null,
   "metadata": {},
   "outputs": [],
   "source": []
  }
 ],
 "metadata": {
  "kernelspec": {
   "display_name": ".venv",
   "language": "python",
   "name": "python3"
  },
  "language_info": {
   "codemirror_mode": {
    "name": "ipython",
    "version": 3
   },
   "file_extension": ".py",
   "mimetype": "text/x-python",
   "name": "python",
   "nbconvert_exporter": "python",
   "pygments_lexer": "ipython3",
   "version": "3.10.16"
  }
 },
 "nbformat": 4,
 "nbformat_minor": 2
}
